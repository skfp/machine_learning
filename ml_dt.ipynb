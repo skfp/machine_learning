{
 "cells": [
  {
   "cell_type": "code",
   "execution_count": 1,
   "metadata": {},
   "outputs": [
    {
     "name": "stderr",
     "output_type": "stream",
     "text": [
      "/Users/sylwester/opt/anaconda3/lib/python3.7/site-packages/sklearn/externals/six.py:31: FutureWarning: The module is deprecated in version 0.21 and will be removed in version 0.23 since we've dropped support for Python 2.7. Please rely on the official version of six (https://pypi.org/project/six/).\n",
      "  \"(https://pypi.org/project/six/).\", FutureWarning)\n"
     ]
    }
   ],
   "source": [
    "#Importing libraries\n",
    "import numpy as np\n",
    "from sklearn.datasets import load_iris\n",
    "from sklearn.datasets import load_wine\n",
    "from sklearn.metrics import accuracy_score\n",
    "from sklearn.model_selection import train_test_split\n",
    "from sklearn import tree\n",
    "import sklearn\n",
    "\n",
    "import pandas as pd\n",
    "import seaborn as sns\n",
    "import matplotlib.pyplot as plt\n",
    "import matplotlib.mlab as mlab\n",
    "\n",
    "from sklearn.externals.six import StringIO\n",
    "import pydotplus\n",
    "\n",
    "##from sklearn import cross_validation\n",
    "from sklearn.model_selection import train_test_split, cross_val_score\n",
    "#from sklearn.cross_validation import train_test_split, cross_val_score\n",
    "from sklearn.tree import DecisionTreeClassifier\n",
    "from sklearn.metrics import confusion_matrix, classification_report, precision_score, recall_score, roc_curve, auc\n"
   ]
  },
  {
   "cell_type": "code",
   "execution_count": 2,
   "metadata": {},
   "outputs": [],
   "source": [
    "train_original = pd.read_csv('train.csv')\n",
    "test_original = pd.read_csv('test.csv')"
   ]
  },
  {
   "cell_type": "code",
   "execution_count": 3,
   "metadata": {},
   "outputs": [
    {
     "data": {
      "text/plain": [
       "((891, 8), (418, 7))"
      ]
     },
     "execution_count": 3,
     "metadata": {},
     "output_type": "execute_result"
    }
   ],
   "source": [
    "# Exclude some features to reduce data dimension\n",
    "train=train_original.drop(['PassengerId','Name','Ticket','Cabin'], axis=1)\n",
    "test=test_original.drop(['PassengerId','Name','Ticket','Cabin'], axis=1)\n",
    "total = [train,test]\n",
    "\n",
    "train.shape, test.shape"
   ]
  },
  {
   "cell_type": "code",
   "execution_count": 4,
   "metadata": {},
   "outputs": [],
   "source": [
    "## Create function to replace NaN with the median value for each ticket class\n",
    "def fill_missing_age(dataset):\n",
    "    for i in range(1,4):\n",
    "        median_age=dataset[dataset[\"Pclass\"]==i][\"Age\"].median()\n",
    "        dataset[\"Age\"]=dataset[\"Age\"].fillna(median_age)\n",
    "        return dataset\n",
    "\n",
    "train = fill_missing_age(train)"
   ]
  },
  {
   "cell_type": "code",
   "execution_count": 5,
   "metadata": {},
   "outputs": [],
   "source": [
    "## Replace missing cases with C\n",
    "train[\"Embarked\"] = train[\"Embarked\"].fillna('C')"
   ]
  },
  {
   "cell_type": "code",
   "execution_count": 6,
   "metadata": {},
   "outputs": [],
   "source": [
    "test = fill_missing_age(test)\n",
    "\n",
    "## Create function to replace NaN with the median fare with given conditions\n",
    "def fill_missing_fare(dataset):\n",
    "    median_fare=dataset[(dataset[\"Pclass\"]==3) & (dataset[\"Embarked\"]==\"S\")][\"Fare\"].median()\n",
    "    dataset[\"Fare\"]=dataset[\"Fare\"].fillna(median_fare)\n",
    "    return dataset\n",
    "\n",
    "test = fill_missing_fare(test)"
   ]
  },
  {
   "cell_type": "code",
   "execution_count": 7,
   "metadata": {},
   "outputs": [],
   "source": [
    "## discretise Age feature\n",
    "for dataset in total:\n",
    "    dataset.loc[dataset[\"Age\"] <= 9, \"Age\"] = 0\n",
    "    dataset.loc[(dataset[\"Age\"] > 9) & (dataset[\"Age\"] <= 19), \"Age\"] = 1\n",
    "    dataset.loc[(dataset[\"Age\"] > 19) & (dataset[\"Age\"] <= 29), \"Age\"] = 2\n",
    "    dataset.loc[(dataset[\"Age\"] > 29) & (dataset[\"Age\"] <= 39), \"Age\"] = 3\n",
    "    dataset.loc[dataset[\"Age\"] > 39, \"Age\"] = 4"
   ]
  },
  {
   "cell_type": "code",
   "execution_count": 8,
   "metadata": {},
   "outputs": [
    {
     "data": {
      "text/plain": [
       "(-0.001, 7.75]       140\n",
       "(9.841, 14.454]      113\n",
       "(69.488, 512.329]    112\n",
       "(24.479, 31.0]       112\n",
       "(7.91, 9.841]        111\n",
       "(31.0, 69.488]       110\n",
       "(14.454, 24.479]     110\n",
       "(7.75, 7.91]          83\n",
       "Name: Fare, dtype: int64"
      ]
     },
     "execution_count": 8,
     "metadata": {},
     "output_type": "execute_result"
    }
   ],
   "source": [
    "## discretise Fare\n",
    "pd.qcut(train[\"Fare\"], 8).value_counts()"
   ]
  },
  {
   "cell_type": "code",
   "execution_count": 9,
   "metadata": {},
   "outputs": [],
   "source": [
    "for dataset in total:\n",
    "    dataset.loc[dataset[\"Fare\"] <= 7.75, \"Fare\"] = 0\n",
    "    dataset.loc[(dataset[\"Fare\"] > 7.75) & (dataset[\"Fare\"] <= 7.91), \"Fare\"] = 1\n",
    "    dataset.loc[(dataset[\"Fare\"] > 7.91) & (dataset[\"Fare\"] <= 9.841), \"Fare\"] = 2\n",
    "    dataset.loc[(dataset[\"Fare\"] > 9.841) & (dataset[\"Fare\"] <= 14.454), \"Fare\"] = 3   \n",
    "    dataset.loc[(dataset[\"Fare\"] > 14.454) & (dataset[\"Fare\"] <= 24.479), \"Fare\"] = 4\n",
    "    dataset.loc[(dataset[\"Fare\"] >24.479) & (dataset[\"Fare\"] <= 31), \"Fare\"] = 5   \n",
    "    dataset.loc[(dataset[\"Fare\"] > 31) & (dataset[\"Fare\"] <= 69.487), \"Fare\"] = 6\n",
    "    dataset.loc[dataset[\"Fare\"] > 69.487, \"Fare\"] = 7   "
   ]
  },
  {
   "cell_type": "code",
   "execution_count": 10,
   "metadata": {},
   "outputs": [],
   "source": [
    "## Convert SibSp into binary feature\n",
    "for dataset in total:\n",
    "    dataset.loc[dataset[\"SibSp\"]==0, \"SibSp\"]=0\n",
    "    dataset.loc[dataset[\"SibSp\"]!=0, \"SibSp\"]=1\n",
    "\n",
    "## Convert Parch into binary feature\n",
    "for dataset in total:\n",
    "    dataset.loc[dataset[\"Parch\"]==0, \"Parch\"]=0\n",
    "    dataset.loc[dataset[\"Parch\"]!=0, \"Parch\"]=1"
   ]
  },
  {
   "cell_type": "code",
   "execution_count": 11,
   "metadata": {},
   "outputs": [],
   "source": [
    "# **Convert categorical features to numeric**\n",
    "## Scikit learn estimators require numeric features\n",
    "sex = {'female':0,'male':1}\n",
    "embarked = {'C':0,'Q':1,'S':2}  "
   ]
  },
  {
   "cell_type": "code",
   "execution_count": 12,
   "metadata": {},
   "outputs": [],
   "source": [
    "## Convert categorical features to numeric using mapping function\n",
    "for dataset in total:\n",
    "    dataset['Sex'] = dataset['Sex'].map(sex)\n",
    "    dataset['Embarked'] = dataset['Embarked'].map(embarked)"
   ]
  },
  {
   "cell_type": "code",
   "execution_count": 13,
   "metadata": {},
   "outputs": [],
   "source": [
    "## Seperate input features from target feature\n",
    "x = train.drop(\"Survived\", axis=1)\n",
    "y = train[\"Survived\"]\n",
    "## Split the data into training and validation sets\n",
    "x_train, x_test, y_train, y_test = train_test_split(x,y,test_size=.25,random_state=1)"
   ]
  },
  {
   "cell_type": "code",
   "execution_count": 14,
   "metadata": {},
   "outputs": [
    {
     "name": "stdout",
     "output_type": "stream",
     "text": [
      "[0.79329609 0.7752809  0.83146067 0.80337079 0.84269663]\n",
      "Accuracy: 0.8092 (+/- 0.0494)\n"
     ]
    }
   ],
   "source": [
    "# Decision Tree Classifier\n",
    "clf = DecisionTreeClassifier(random_state=1)\n",
    "## Run 10 fold cross validation\n",
    "cvs = cross_val_score(clf,x,y,cv=5)\n",
    "print(cvs)\n",
    "## Show cross validation score mean and std\n",
    "print(\"Accuracy: %0.4f (+/- %0.4f)\" % (cvs.mean(), cvs.std()*2))"
   ]
  },
  {
   "cell_type": "code",
   "execution_count": 15,
   "metadata": {},
   "outputs": [
    {
     "name": "stdout",
     "output_type": "stream",
     "text": [
      "Accuracy: 0.9027\n",
      "Precision: 0.8243\n",
      "Recall: 0.6421\n",
      "              precision    recall  f1-score   support\n",
      "\n",
      "           0       0.77      0.90      0.83       128\n",
      "           1       0.82      0.64      0.72        95\n",
      "\n",
      "    accuracy                           0.79       223\n",
      "   macro avg       0.80      0.77      0.78       223\n",
      "weighted avg       0.79      0.79      0.78       223\n",
      "\n"
     ]
    }
   ],
   "source": [
    "## Fit the model with data\n",
    "clf.fit(x_train, y_train)\n",
    "## Accuracy\n",
    "acc_decision_tree = round(clf.score(x_train, y_train), 4)\n",
    "print(\"Accuracy: %0.4f\" % (acc_decision_tree))\n",
    "# We split the data into 75% training and 25% validation sets, and fitted the model. Based on this split, classifier accuracy of the model turned out to be 0.9027. Thus, we may conclude that 90.27% of validation set tuples were correctly classified by this model.\n",
    "## Predict y given validation set\n",
    "predictions = clf.predict(x_test)\n",
    "## Take a look at the confusion matrix ([TN,FN],[FP,TP])\n",
    "confusion_matrix(y_test,predictions)\n",
    "## Precision\n",
    "print(\"Precision: %0.4f\" % precision_score(y_test, predictions))\n",
    "# The precision is 0.8310. Thus, we may conclude that 83.10% of tuples that the classifier labeled as positive are actually positive by this model.\n",
    "## Recall score\n",
    "print(\"Recall: %0.4f\" % recall_score(y_test, predictions))\n",
    "# The recall is 0.6211. Thus, we may conclude that 62.11% of real positive tuples were classified by the decision tree classifier.\n",
    "## Print classification report\n",
    "print(classification_report(y_test, predictions))\n",
    "## Get data to plot ROC Curve\n",
    "fp, tp, th = roc_curve(y_test, predictions)\n",
    "roc_auc = auc(fp, tp)"
   ]
  },
  {
   "cell_type": "code",
   "execution_count": 16,
   "metadata": {},
   "outputs": [
    {
     "name": "stdout",
     "output_type": "stream",
     "text": [
      "[0.77441077 0.77441077 0.79124579]\n",
      "Accuracy: 0.7800 (+/- 0.0159)\n"
     ]
    },
    {
     "data": {
      "text/plain": [
       "DecisionTreeClassifier(ccp_alpha=0.0, class_weight=None, criterion='gini',\n",
       "                       max_depth=None, max_features=None, max_leaf_nodes=None,\n",
       "                       min_impurity_decrease=0.0, min_impurity_split=None,\n",
       "                       min_samples_leaf=1, min_samples_split=2,\n",
       "                       min_weight_fraction_leaf=0.0, presort='deprecated',\n",
       "                       random_state=1, splitter='best')"
      ]
     },
     "execution_count": 16,
     "metadata": {},
     "output_type": "execute_result"
    }
   ],
   "source": [
    "clf = DecisionTreeClassifier(random_state=1)\n",
    "\n",
    "cvs = cross_val_score(clf,x,y,cv=3)\n",
    "print(cvs)\n",
    "\n",
    "print(\"Accuracy: %0.4f (+/- %0.4f)\" % (cvs.mean(), cvs.std()*2))\n",
    "\n",
    "clf.fit(x_train, y_train)\n",
    "\n",
    "#acc_decision_tree = round(clf.score(x_train, y_train), 4)\n",
    "#print(\"Accuracy: %0.4f\" % (acc_decision_tree))\n",
    "\n",
    "\n"
   ]
  },
  {
   "cell_type": "code",
   "execution_count": 17,
   "metadata": {},
   "outputs": [
    {
     "name": "stdout",
     "output_type": "stream",
     "text": [
      "[0.79329609 0.78651685 0.8258427  0.80898876 0.85393258]\n",
      "Accuracy: 0.8137 (+/- 0.0485)\n",
      "Accuracy: 0.9027\n"
     ]
    }
   ],
   "source": [
    "\n",
    "clf = DecisionTreeClassifier(random_state=1,criterion='entropy')\n",
    "\n",
    "cvs = cross_val_score(clf,x,y,cv=5)\n",
    "print(cvs)\n",
    "\n",
    "print(\"Accuracy: %0.4f (+/- %0.4f)\" % (cvs.mean(), cvs.std()*2))\n",
    "\n",
    "clf.fit(x_train, y_train)\n",
    "\n",
    "acc_decision_tree = round(clf.score(x_train, y_train), 4)\n",
    "print(\"Accuracy: %0.4f\" % (acc_decision_tree))\n"
   ]
  },
  {
   "cell_type": "code",
   "execution_count": 18,
   "metadata": {},
   "outputs": [
    {
     "name": "stdout",
     "output_type": "stream",
     "text": [
      "[0.75977654 0.7752809  0.82022472 0.79213483 0.83707865]\n",
      "Accuracy: 0.7969 (+/- 0.0568)\n",
      "Accuracy: 0.8473\n"
     ]
    }
   ],
   "source": [
    "clf = DecisionTreeClassifier(random_state=1,max_depth=4)\n",
    "\n",
    "cvs = cross_val_score(clf,x,y,cv=5)\n",
    "print(cvs)\n",
    "\n",
    "print(\"Accuracy: %0.4f (+/- %0.4f)\" % (cvs.mean(), cvs.std()*2))\n",
    "\n",
    "clf.fit(x_train, y_train)\n",
    "\n",
    "acc_decision_tree = round(clf.score(x_train, y_train), 4)\n",
    "print(\"Accuracy: %0.4f\" % (acc_decision_tree))\n",
    "\n",
    "clf_maxdepth4=clf"
   ]
  },
  {
   "cell_type": "code",
   "execution_count": 19,
   "metadata": {},
   "outputs": [
    {
     "name": "stdout",
     "output_type": "stream",
     "text": [
      "[0.79888268 0.80337079 0.85393258 0.80898876 0.81460674]\n",
      "Accuracy: 0.8160 (+/- 0.0394)\n",
      "Accuracy: 0.8713\n"
     ]
    }
   ],
   "source": [
    "\n",
    "clf = DecisionTreeClassifier(random_state=1,max_depth=7)\n",
    "\n",
    "cvs = cross_val_score(clf,x,y,cv=5)\n",
    "print(cvs)\n",
    "\n",
    "print(\"Accuracy: %0.4f (+/- %0.4f)\" % (cvs.mean(), cvs.std()*2))\n",
    "\n",
    "clf.fit(x_train, y_train)\n",
    "\n",
    "acc_decision_tree = round(clf.score(x_train, y_train), 4)\n",
    "print(\"Accuracy: %0.4f\" % (acc_decision_tree))\n",
    "\n"
   ]
  },
  {
   "cell_type": "code",
   "execution_count": 20,
   "metadata": {},
   "outputs": [
    {
     "name": "stdout",
     "output_type": "stream",
     "text": [
      "[0.80446927 0.7752809  0.8258427  0.80898876 0.84269663]\n",
      "Accuracy: 0.8115 (+/- 0.0451)\n",
      "Accuracy: 0.8997\n"
     ]
    }
   ],
   "source": [
    "\n",
    "clf = DecisionTreeClassifier(random_state=1,max_depth=10)\n",
    "\n",
    "cvs = cross_val_score(clf,x,y,cv=5)\n",
    "print(cvs)\n",
    "\n",
    "print(\"Accuracy: %0.4f (+/- %0.4f)\" % (cvs.mean(), cvs.std()*2))\n",
    "\n",
    "clf.fit(x_train, y_train)\n",
    "\n",
    "acc_decision_tree = round(clf.score(x_train, y_train), 4)\n",
    "print(\"Accuracy: %0.4f\" % (acc_decision_tree))\n",
    "\n"
   ]
  },
  {
   "cell_type": "code",
   "execution_count": 21,
   "metadata": {},
   "outputs": [
    {
     "name": "stdout",
     "output_type": "stream",
     "text": [
      "[0.79888268 0.80337079 0.82022472 0.79213483 0.85955056]\n",
      "Accuracy: 0.8148 (+/- 0.0484)\n",
      "Accuracy: 0.8503\n"
     ]
    }
   ],
   "source": [
    "\n",
    "clf = DecisionTreeClassifier(random_state=1,max_leaf_nodes=10)\n",
    "\n",
    "cvs = cross_val_score(clf,x,y,cv=5)\n",
    "print(cvs)\n",
    "\n",
    "print(\"Accuracy: %0.4f (+/- %0.4f)\" % (cvs.mean(), cvs.std()*2))\n",
    "\n",
    "clf.fit(x_train, y_train)\n",
    "\n",
    "acc_decision_tree = round(clf.score(x_train, y_train), 4)\n",
    "print(\"Accuracy: %0.4f\" % (acc_decision_tree))\n",
    "\n",
    "clf_nodes_10=clf"
   ]
  },
  {
   "cell_type": "code",
   "execution_count": 22,
   "metadata": {},
   "outputs": [
    {
     "name": "stdout",
     "output_type": "stream",
     "text": [
      "[0.77094972 0.78089888 0.82022472 0.79775281 0.83707865]\n",
      "Accuracy: 0.8014 (+/- 0.0489)\n",
      "Accuracy: 0.8563\n"
     ]
    }
   ],
   "source": [
    "\n",
    "clf = DecisionTreeClassifier(random_state=1,max_leaf_nodes=16)\n",
    "\n",
    "cvs = cross_val_score(clf,x,y,cv=5)\n",
    "print(cvs)\n",
    "\n",
    "print(\"Accuracy: %0.4f (+/- %0.4f)\" % (cvs.mean(), cvs.std()*2))\n",
    "\n",
    "clf.fit(x_train, y_train)\n",
    "\n",
    "acc_decision_tree = round(clf.score(x_train, y_train), 4)\n",
    "print(\"Accuracy: %0.4f\" % (acc_decision_tree))\n",
    "\n",
    "\n"
   ]
  },
  {
   "cell_type": "code",
   "execution_count": 23,
   "metadata": {},
   "outputs": [
    {
     "name": "stdout",
     "output_type": "stream",
     "text": [
      "[0.77653631 0.78089888 0.82022472 0.80337079 0.85955056]\n",
      "Accuracy: 0.8081 (+/- 0.0604)\n",
      "Accuracy: 0.8653\n"
     ]
    }
   ],
   "source": [
    "\n",
    "clf = DecisionTreeClassifier(random_state=1,max_leaf_nodes=23)\n",
    "\n",
    "cvs = cross_val_score(clf,x,y,cv=5)\n",
    "print(cvs)\n",
    "\n",
    "print(\"Accuracy: %0.4f (+/- %0.4f)\" % (cvs.mean(), cvs.std()*2))\n",
    "\n",
    "clf.fit(x_train, y_train)\n",
    "\n",
    "acc_decision_tree = round(clf.score(x_train, y_train), 4)\n",
    "print(\"Accuracy: %0.4f\" % (acc_decision_tree))\n",
    "\n",
    "\n"
   ]
  },
  {
   "cell_type": "code",
   "execution_count": 24,
   "metadata": {},
   "outputs": [
    {
     "name": "stdout",
     "output_type": "stream",
     "text": [
      "[0.7877095  0.7752809  0.80337079 0.82022472 0.85393258]\n",
      "Accuracy: 0.8081 (+/- 0.0549)\n",
      "Accuracy: 0.8743\n"
     ]
    }
   ],
   "source": [
    "\n",
    "clf = DecisionTreeClassifier(random_state=1,max_leaf_nodes=33)\n",
    "\n",
    "cvs = cross_val_score(clf,x,y,cv=5)\n",
    "print(cvs)\n",
    "\n",
    "print(\"Accuracy: %0.4f (+/- %0.4f)\" % (cvs.mean(), cvs.std()*2))\n",
    "\n",
    "clf.fit(x_train, y_train)\n",
    "\n",
    "acc_decision_tree = round(clf.score(x_train, y_train), 4)\n",
    "print(\"Accuracy: %0.4f\" % (acc_decision_tree))\n",
    "\n",
    "\n",
    "clf_nodes_33=clf"
   ]
  },
  {
   "cell_type": "code",
   "execution_count": 25,
   "metadata": {},
   "outputs": [
    {
     "name": "stdout",
     "output_type": "stream",
     "text": [
      "[0.79888268 0.76966292 0.83707865 0.83707865 0.85955056]\n",
      "Accuracy: 0.8205 (+/- 0.0640)\n",
      "Accuracy: 0.8892\n"
     ]
    }
   ],
   "source": [
    "\n",
    "clf = DecisionTreeClassifier(random_state=1,max_leaf_nodes=50)\n",
    "\n",
    "cvs = cross_val_score(clf,x,y,cv=5)\n",
    "print(cvs)\n",
    "\n",
    "print(\"Accuracy: %0.4f (+/- %0.4f)\" % (cvs.mean(), cvs.std()*2))\n",
    "\n",
    "clf.fit(x_train, y_train)\n",
    "\n",
    "acc_decision_tree = round(clf.score(x_train, y_train), 4)\n",
    "print(\"Accuracy: %0.4f\" % (acc_decision_tree))\n"
   ]
  },
  {
   "cell_type": "code",
   "execution_count": 26,
   "metadata": {},
   "outputs": [
    {
     "name": "stdout",
     "output_type": "stream",
     "text": [
      "[0.79888268 0.7752809  0.84831461 0.81460674 0.84269663]\n",
      "Accuracy: 0.8160 (+/- 0.0545)\n",
      "Accuracy: 0.9012\n"
     ]
    }
   ],
   "source": [
    "\n",
    "clf = DecisionTreeClassifier(random_state=1,max_leaf_nodes=100)\n",
    "\n",
    "cvs = cross_val_score(clf,x,y,cv=5)\n",
    "print(cvs)\n",
    "\n",
    "print(\"Accuracy: %0.4f (+/- %0.4f)\" % (cvs.mean(), cvs.std()*2))\n",
    "\n",
    "clf.fit(x_train, y_train)\n",
    "\n",
    "acc_decision_tree = round(clf.score(x_train, y_train), 4)\n",
    "print(\"Accuracy: %0.4f\" % (acc_decision_tree))\n",
    "\n",
    "\n"
   ]
  },
  {
   "cell_type": "code",
   "execution_count": 27,
   "metadata": {},
   "outputs": [
    {
     "name": "stdout",
     "output_type": "stream",
     "text": [
      "[0.79888268 0.78089888 0.81460674 0.82022472 0.86516854]\n",
      "Accuracy: 0.8160 (+/- 0.0563)\n",
      "Accuracy: 0.8698\n"
     ]
    }
   ],
   "source": [
    "\n",
    "clf = DecisionTreeClassifier(random_state=1,splitter='random',max_leaf_nodes=33)\n",
    "\n",
    "cvs = cross_val_score(clf,x,y,cv=5)\n",
    "print(cvs)\n",
    "\n",
    "print(\"Accuracy: %0.4f (+/- %0.4f)\" % (cvs.mean(), cvs.std()*2))\n",
    "\n",
    "clf.fit(x_train, y_train)\n",
    "\n",
    "acc_decision_tree = round(clf.score(x_train, y_train), 4)\n",
    "print(\"Accuracy: %0.4f\" % (acc_decision_tree))\n"
   ]
  },
  {
   "cell_type": "code",
   "execution_count": 28,
   "metadata": {},
   "outputs": [
    {
     "name": "stdout",
     "output_type": "stream",
     "text": [
      "[0.78212291 0.78089888 0.83146067 0.8258427  0.8258427 ]\n",
      "Accuracy: 0.8092 (+/- 0.0455)\n",
      "Accuracy: 0.8668\n"
     ]
    }
   ],
   "source": [
    "\n",
    "clf = DecisionTreeClassifier(random_state=1,min_samples_leaf=3)\n",
    "\n",
    "cvs = cross_val_score(clf,x,y,cv=5)\n",
    "print(cvs)\n",
    "\n",
    "print(\"Accuracy: %0.4f (+/- %0.4f)\" % (cvs.mean(), cvs.std()*2))\n",
    "\n",
    "clf.fit(x_train, y_train)\n",
    "\n",
    "acc_decision_tree = round(clf.score(x_train, y_train), 4)\n",
    "print(\"Accuracy: %0.4f\" % (acc_decision_tree))\n",
    "\n",
    "clf_sample_3=clf"
   ]
  },
  {
   "cell_type": "code",
   "execution_count": 29,
   "metadata": {},
   "outputs": [
    {
     "name": "stdout",
     "output_type": "stream",
     "text": [
      "[0.81564246 0.78089888 0.84831461 0.82022472 0.79775281]\n",
      "Accuracy: 0.8126 (+/- 0.0453)\n",
      "Accuracy: 0.8802\n"
     ]
    }
   ],
   "source": [
    "\n",
    "clf = DecisionTreeClassifier(random_state=1,min_samples_leaf=2)\n",
    "\n",
    "cvs = cross_val_score(clf,x,y,cv=5)\n",
    "print(cvs)\n",
    "\n",
    "print(\"Accuracy: %0.4f (+/- %0.4f)\" % (cvs.mean(), cvs.std()*2))\n",
    "\n",
    "clf.fit(x_train, y_train)\n",
    "\n",
    "acc_decision_tree = round(clf.score(x_train, y_train), 4)\n",
    "print(\"Accuracy: %0.4f\" % (acc_decision_tree))\n",
    "\n"
   ]
  },
  {
   "cell_type": "code",
   "execution_count": 30,
   "metadata": {},
   "outputs": [],
   "source": [
    "# Constructing and evaluating the decision tree\n",
    "import numpy as np\n",
    "from sklearn.datasets import load_iris\n",
    "from sklearn.datasets import load_wine\n",
    "from sklearn.metrics import accuracy_score\n",
    "from sklearn.model_selection import train_test_split\n",
    "from sklearn import tree\n",
    "import sklearn\n",
    "\n",
    "# Basic statistics\n",
    "import pandas as pd\n",
    "import seaborn as sns\n",
    "import matplotlib.pyplot as plt\n",
    "\n",
    "# Vizualization of Decision Tree Classifier\n",
    "from sklearn.externals.six import StringIO\n",
    "import pydotplus"
   ]
  },
  {
   "cell_type": "code",
   "execution_count": 31,
   "metadata": {},
   "outputs": [],
   "source": [
    "def graph_export(clf, data, file):\n",
    "    dot_data = StringIO()\n",
    "    sklearn.tree.export_graphviz(\n",
    "        decision_tree=clf,\n",
    "        out_file=dot_data,\n",
    "        #feature_names=['Embarked','Sex','Age','Parch','SibSp','Fare','Pclass'],\n",
    "        feature_names=['Pclass','Sex','Age','SibSp','Parch','Fare','Embarked'],\n",
    "        class_names=['0','1'],\n",
    "        filled=True,\n",
    "        rounded=True,\n",
    "        impurity=True\n",
    "    )\n",
    "    graph = pydotplus.graph_from_dot_data(dot_data.getvalue())\n",
    "    graph.write_pdf(file)"
   ]
  },
  {
   "cell_type": "code",
   "execution_count": null,
   "metadata": {},
   "outputs": [],
   "source": [
    "#total=train.append(test)\n",
    "graph_export(clf, train, \"titanic_basic_model.pdf\")"
   ]
  },
  {
   "cell_type": "code",
   "execution_count": 98,
   "metadata": {},
   "outputs": [],
   "source": [
    "graph_export(clf_maxdepth4, train, \"titanic_max_depth_4.pdf\")"
   ]
  },
  {
   "cell_type": "code",
   "execution_count": 105,
   "metadata": {},
   "outputs": [],
   "source": [
    "graph_export(clf_nodes_10, train, \"titanic_notes_10.pdf\")"
   ]
  },
  {
   "cell_type": "code",
   "execution_count": 104,
   "metadata": {},
   "outputs": [],
   "source": [
    "graph_export(clf_nodes_33, train, \"titanic_nodes_33.pdf\")"
   ]
  },
  {
   "cell_type": "code",
   "execution_count": 110,
   "metadata": {},
   "outputs": [],
   "source": [
    "graph_export(clf_sample_3, train, \"titanic_min_sample_3.pdf\")"
   ]
  },
  {
   "cell_type": "code",
   "execution_count": null,
   "metadata": {},
   "outputs": [],
   "source": []
  },
  {
   "cell_type": "code",
   "execution_count": null,
   "metadata": {},
   "outputs": [],
   "source": []
  },
  {
   "cell_type": "code",
   "execution_count": null,
   "metadata": {},
   "outputs": [],
   "source": []
  }
 ],
 "metadata": {
  "kernelspec": {
   "display_name": "Python 3",
   "language": "python",
   "name": "python3"
  },
  "language_info": {
   "codemirror_mode": {
    "name": "ipython",
    "version": 3
   },
   "file_extension": ".py",
   "mimetype": "text/x-python",
   "name": "python",
   "nbconvert_exporter": "python",
   "pygments_lexer": "ipython3",
   "version": "3.7.4"
  }
 },
 "nbformat": 4,
 "nbformat_minor": 2
}
